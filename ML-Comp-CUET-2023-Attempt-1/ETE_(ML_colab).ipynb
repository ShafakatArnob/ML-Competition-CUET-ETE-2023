{
  "nbformat": 4,
  "nbformat_minor": 0,
  "metadata": {
    "colab": {
      "provenance": []
    },
    "kernelspec": {
      "name": "python3",
      "display_name": "Python 3"
    },
    "language_info": {
      "name": "python"
    }
  },
  "cells": [
    {
      "cell_type": "markdown",
      "source": [
        "# Installation and import"
      ],
      "metadata": {
        "id": "gdYkOrMwsJT5"
      }
    },
    {
      "cell_type": "code",
      "source": [
        "# !pip install langid\n",
        "# !pip install emoji\n",
        "# !pip install bnlp\n",
        "# !pip install bnlp_toolkit\n",
        "# !pip install bltk"
      ],
      "metadata": {
        "id": "-89NN5_2sJHX"
      },
      "execution_count": null,
      "outputs": []
    },
    {
      "cell_type": "code",
      "source": [
        "import pandas as pd\n",
        "import langid\n",
        "import emoji\n",
        "import numpy as np\n",
        "import matplotlib.pylab as plt\n",
        "import seaborn as sns\n",
        "from google.colab import autoviz\n",
        "from collections import Counter\n",
        "import re\n",
        "import csv\n",
        "import string\n",
        "import nltk\n",
        "from nltk.tokenize import word_tokenize\n",
        "from nltk.corpus import stopwords\n",
        "nltk.download('stopwords')\n",
        "nltk.download('punkt')"
      ],
      "metadata": {
        "colab": {
          "base_uri": "https://localhost:8080/"
        },
        "id": "QAxHomoZIRl3",
        "outputId": "e98ef474-ca43-44f7-817f-1972c1fea980"
      },
      "execution_count": null,
      "outputs": [
        {
          "output_type": "stream",
          "name": "stderr",
          "text": [
            "[nltk_data] Downloading package stopwords to /root/nltk_data...\n",
            "[nltk_data]   Package stopwords is already up-to-date!\n",
            "[nltk_data] Downloading package punkt to /root/nltk_data...\n",
            "[nltk_data]   Unzipping tokenizers/punkt.zip.\n"
          ]
        },
        {
          "output_type": "execute_result",
          "data": {
            "text/plain": [
              "True"
            ]
          },
          "metadata": {},
          "execution_count": 63
        }
      ]
    },
    {
      "cell_type": "markdown",
      "source": [
        "# Dataset load"
      ],
      "metadata": {
        "id": "Xfa7Ym1qsPr-"
      }
    },
    {
      "cell_type": "code",
      "execution_count": null,
      "metadata": {
        "colab": {
          "base_uri": "https://localhost:8080/"
        },
        "id": "mtbLE6cnHhr2",
        "outputId": "c5f2f5d9-ef4f-4da1-da66-b9cf780a7c81"
      },
      "outputs": [
        {
          "output_type": "stream",
          "name": "stdout",
          "text": [
            "Drive already mounted at /content/drive; to attempt to forcibly remount, call drive.mount(\"/content/drive\", force_remount=True).\n"
          ]
        }
      ],
      "source": [
        "from google.colab import drive\n",
        "drive.mount('/content/drive')"
      ]
    },
    {
      "cell_type": "code",
      "source": [
        "train_df = pd.read_csv(\"/content/drive/MyDrive/ML /train.csv\")\n"
      ],
      "metadata": {
        "id": "573WP8jJISs8"
      },
      "execution_count": null,
      "outputs": []
    },
    {
      "cell_type": "markdown",
      "source": [
        "# Analysis of Dataset"
      ],
      "metadata": {
        "id": "u3cF5PAnsTR4"
      }
    },
    {
      "cell_type": "code",
      "source": [
        "train_df.head(10)"
      ],
      "metadata": {
        "colab": {
          "base_uri": "https://localhost:8080/",
          "height": 363
        },
        "id": "XZEof8XMIrJB",
        "outputId": "7af8f806-a8d0-4a47-ba42-20423efce00e"
      },
      "execution_count": null,
      "outputs": [
        {
          "output_type": "execute_result",
          "data": {
            "text/plain": [
              "                                             summary           genre  Label\n",
              "0  #BookReview\\r\\n\\r\\nবইঃ চাঁদের পাহাড়\\r\\nধরনঃ অ...  Childrens-Book      2\n",
              "1  বেশির ভাগ বই ই আমার ভাললাগে। কিন্তু এই টাইপের ...         Fiction      0\n",
              "2  মিসির আলি এখন তার ছাত্র ফারুকের শ্বশুর বাড়ি কই...         Fiction      0\n",
              "3  ছোটজাতের ছোটজাত হাসিম। পিতৃপ্রদত্ত নামখানা একর...         Fiction      0\n",
              "4  ফালতু একটা বই। পয়সা নষ্ট। বাজে লেখনী। একই জিনি...       Political      3\n",
              "5  #রকমারি_বইপোকা_রিভিউ_প্রতিযোগিতা।\\r\\n বইয়ের না...         Fiction      0\n",
              "6  #রকমারি_বইপোকা_রিভিউ_প্রতিযোগিতা বইঃ বোতল ভূত ...  Childrens-Book      2\n",
              "7  পাঠকনন্দিত লেখক ডক্টর মুহম্মদ জাফর ইকবাল স্যার...        Thriller      1\n",
              "8  বই : নাথিং লাস্টস ফরএভার \\r\\nলেখক : সিডনি শেলড...        Thriller      1\n",
              "9  একসময় দিনরাত গল্পের বইয়ে মুখ গুঁজে পড়ে থাকতাম।...         Fiction      0"
            ],
            "text/html": [
              "\n",
              "  <div id=\"df-ff07e711-f8a7-40ba-8e77-73f0d2544604\" class=\"colab-df-container\">\n",
              "    <div>\n",
              "<style scoped>\n",
              "    .dataframe tbody tr th:only-of-type {\n",
              "        vertical-align: middle;\n",
              "    }\n",
              "\n",
              "    .dataframe tbody tr th {\n",
              "        vertical-align: top;\n",
              "    }\n",
              "\n",
              "    .dataframe thead th {\n",
              "        text-align: right;\n",
              "    }\n",
              "</style>\n",
              "<table border=\"1\" class=\"dataframe\">\n",
              "  <thead>\n",
              "    <tr style=\"text-align: right;\">\n",
              "      <th></th>\n",
              "      <th>summary</th>\n",
              "      <th>genre</th>\n",
              "      <th>Label</th>\n",
              "    </tr>\n",
              "  </thead>\n",
              "  <tbody>\n",
              "    <tr>\n",
              "      <th>0</th>\n",
              "      <td>#BookReview\\r\\n\\r\\nবইঃ চাঁদের পাহাড়\\r\\nধরনঃ অ...</td>\n",
              "      <td>Childrens-Book</td>\n",
              "      <td>2</td>\n",
              "    </tr>\n",
              "    <tr>\n",
              "      <th>1</th>\n",
              "      <td>বেশির ভাগ বই ই আমার ভাললাগে। কিন্তু এই টাইপের ...</td>\n",
              "      <td>Fiction</td>\n",
              "      <td>0</td>\n",
              "    </tr>\n",
              "    <tr>\n",
              "      <th>2</th>\n",
              "      <td>মিসির আলি এখন তার ছাত্র ফারুকের শ্বশুর বাড়ি কই...</td>\n",
              "      <td>Fiction</td>\n",
              "      <td>0</td>\n",
              "    </tr>\n",
              "    <tr>\n",
              "      <th>3</th>\n",
              "      <td>ছোটজাতের ছোটজাত হাসিম। পিতৃপ্রদত্ত নামখানা একর...</td>\n",
              "      <td>Fiction</td>\n",
              "      <td>0</td>\n",
              "    </tr>\n",
              "    <tr>\n",
              "      <th>4</th>\n",
              "      <td>ফালতু একটা বই। পয়সা নষ্ট। বাজে লেখনী। একই জিনি...</td>\n",
              "      <td>Political</td>\n",
              "      <td>3</td>\n",
              "    </tr>\n",
              "    <tr>\n",
              "      <th>5</th>\n",
              "      <td>#রকমারি_বইপোকা_রিভিউ_প্রতিযোগিতা।\\r\\n বইয়ের না...</td>\n",
              "      <td>Fiction</td>\n",
              "      <td>0</td>\n",
              "    </tr>\n",
              "    <tr>\n",
              "      <th>6</th>\n",
              "      <td>#রকমারি_বইপোকা_রিভিউ_প্রতিযোগিতা বইঃ বোতল ভূত ...</td>\n",
              "      <td>Childrens-Book</td>\n",
              "      <td>2</td>\n",
              "    </tr>\n",
              "    <tr>\n",
              "      <th>7</th>\n",
              "      <td>পাঠকনন্দিত লেখক ডক্টর মুহম্মদ জাফর ইকবাল স্যার...</td>\n",
              "      <td>Thriller</td>\n",
              "      <td>1</td>\n",
              "    </tr>\n",
              "    <tr>\n",
              "      <th>8</th>\n",
              "      <td>বই : নাথিং লাস্টস ফরএভার \\r\\nলেখক : সিডনি শেলড...</td>\n",
              "      <td>Thriller</td>\n",
              "      <td>1</td>\n",
              "    </tr>\n",
              "    <tr>\n",
              "      <th>9</th>\n",
              "      <td>একসময় দিনরাত গল্পের বইয়ে মুখ গুঁজে পড়ে থাকতাম।...</td>\n",
              "      <td>Fiction</td>\n",
              "      <td>0</td>\n",
              "    </tr>\n",
              "  </tbody>\n",
              "</table>\n",
              "</div>\n",
              "    <div class=\"colab-df-buttons\">\n",
              "\n",
              "  <div class=\"colab-df-container\">\n",
              "    <button class=\"colab-df-convert\" onclick=\"convertToInteractive('df-ff07e711-f8a7-40ba-8e77-73f0d2544604')\"\n",
              "            title=\"Convert this dataframe to an interactive table.\"\n",
              "            style=\"display:none;\">\n",
              "\n",
              "  <svg xmlns=\"http://www.w3.org/2000/svg\" height=\"24px\" viewBox=\"0 -960 960 960\">\n",
              "    <path d=\"M120-120v-720h720v720H120Zm60-500h600v-160H180v160Zm220 220h160v-160H400v160Zm0 220h160v-160H400v160ZM180-400h160v-160H180v160Zm440 0h160v-160H620v160ZM180-180h160v-160H180v160Zm440 0h160v-160H620v160Z\"/>\n",
              "  </svg>\n",
              "    </button>\n",
              "\n",
              "  <style>\n",
              "    .colab-df-container {\n",
              "      display:flex;\n",
              "      gap: 12px;\n",
              "    }\n",
              "\n",
              "    .colab-df-convert {\n",
              "      background-color: #E8F0FE;\n",
              "      border: none;\n",
              "      border-radius: 50%;\n",
              "      cursor: pointer;\n",
              "      display: none;\n",
              "      fill: #1967D2;\n",
              "      height: 32px;\n",
              "      padding: 0 0 0 0;\n",
              "      width: 32px;\n",
              "    }\n",
              "\n",
              "    .colab-df-convert:hover {\n",
              "      background-color: #E2EBFA;\n",
              "      box-shadow: 0px 1px 2px rgba(60, 64, 67, 0.3), 0px 1px 3px 1px rgba(60, 64, 67, 0.15);\n",
              "      fill: #174EA6;\n",
              "    }\n",
              "\n",
              "    .colab-df-buttons div {\n",
              "      margin-bottom: 4px;\n",
              "    }\n",
              "\n",
              "    [theme=dark] .colab-df-convert {\n",
              "      background-color: #3B4455;\n",
              "      fill: #D2E3FC;\n",
              "    }\n",
              "\n",
              "    [theme=dark] .colab-df-convert:hover {\n",
              "      background-color: #434B5C;\n",
              "      box-shadow: 0px 1px 3px 1px rgba(0, 0, 0, 0.15);\n",
              "      filter: drop-shadow(0px 1px 2px rgba(0, 0, 0, 0.3));\n",
              "      fill: #FFFFFF;\n",
              "    }\n",
              "  </style>\n",
              "\n",
              "    <script>\n",
              "      const buttonEl =\n",
              "        document.querySelector('#df-ff07e711-f8a7-40ba-8e77-73f0d2544604 button.colab-df-convert');\n",
              "      buttonEl.style.display =\n",
              "        google.colab.kernel.accessAllowed ? 'block' : 'none';\n",
              "\n",
              "      async function convertToInteractive(key) {\n",
              "        const element = document.querySelector('#df-ff07e711-f8a7-40ba-8e77-73f0d2544604');\n",
              "        const dataTable =\n",
              "          await google.colab.kernel.invokeFunction('convertToInteractive',\n",
              "                                                    [key], {});\n",
              "        if (!dataTable) return;\n",
              "\n",
              "        const docLinkHtml = 'Like what you see? Visit the ' +\n",
              "          '<a target=\"_blank\" href=https://colab.research.google.com/notebooks/data_table.ipynb>data table notebook</a>'\n",
              "          + ' to learn more about interactive tables.';\n",
              "        element.innerHTML = '';\n",
              "        dataTable['output_type'] = 'display_data';\n",
              "        await google.colab.output.renderOutput(dataTable, element);\n",
              "        const docLink = document.createElement('div');\n",
              "        docLink.innerHTML = docLinkHtml;\n",
              "        element.appendChild(docLink);\n",
              "      }\n",
              "    </script>\n",
              "  </div>\n",
              "\n",
              "\n",
              "<div id=\"df-a50b2169-e0a7-4c6a-8b3b-9254e36426d8\">\n",
              "  <button class=\"colab-df-quickchart\" onclick=\"quickchart('df-a50b2169-e0a7-4c6a-8b3b-9254e36426d8')\"\n",
              "            title=\"Suggest charts\"\n",
              "            style=\"display:none;\">\n",
              "\n",
              "<svg xmlns=\"http://www.w3.org/2000/svg\" height=\"24px\"viewBox=\"0 0 24 24\"\n",
              "     width=\"24px\">\n",
              "    <g>\n",
              "        <path d=\"M19 3H5c-1.1 0-2 .9-2 2v14c0 1.1.9 2 2 2h14c1.1 0 2-.9 2-2V5c0-1.1-.9-2-2-2zM9 17H7v-7h2v7zm4 0h-2V7h2v10zm4 0h-2v-4h2v4z\"/>\n",
              "    </g>\n",
              "</svg>\n",
              "  </button>\n",
              "\n",
              "<style>\n",
              "  .colab-df-quickchart {\n",
              "      --bg-color: #E8F0FE;\n",
              "      --fill-color: #1967D2;\n",
              "      --hover-bg-color: #E2EBFA;\n",
              "      --hover-fill-color: #174EA6;\n",
              "      --disabled-fill-color: #AAA;\n",
              "      --disabled-bg-color: #DDD;\n",
              "  }\n",
              "\n",
              "  [theme=dark] .colab-df-quickchart {\n",
              "      --bg-color: #3B4455;\n",
              "      --fill-color: #D2E3FC;\n",
              "      --hover-bg-color: #434B5C;\n",
              "      --hover-fill-color: #FFFFFF;\n",
              "      --disabled-bg-color: #3B4455;\n",
              "      --disabled-fill-color: #666;\n",
              "  }\n",
              "\n",
              "  .colab-df-quickchart {\n",
              "    background-color: var(--bg-color);\n",
              "    border: none;\n",
              "    border-radius: 50%;\n",
              "    cursor: pointer;\n",
              "    display: none;\n",
              "    fill: var(--fill-color);\n",
              "    height: 32px;\n",
              "    padding: 0;\n",
              "    width: 32px;\n",
              "  }\n",
              "\n",
              "  .colab-df-quickchart:hover {\n",
              "    background-color: var(--hover-bg-color);\n",
              "    box-shadow: 0 1px 2px rgba(60, 64, 67, 0.3), 0 1px 3px 1px rgba(60, 64, 67, 0.15);\n",
              "    fill: var(--button-hover-fill-color);\n",
              "  }\n",
              "\n",
              "  .colab-df-quickchart-complete:disabled,\n",
              "  .colab-df-quickchart-complete:disabled:hover {\n",
              "    background-color: var(--disabled-bg-color);\n",
              "    fill: var(--disabled-fill-color);\n",
              "    box-shadow: none;\n",
              "  }\n",
              "\n",
              "  .colab-df-spinner {\n",
              "    border: 2px solid var(--fill-color);\n",
              "    border-color: transparent;\n",
              "    border-bottom-color: var(--fill-color);\n",
              "    animation:\n",
              "      spin 1s steps(1) infinite;\n",
              "  }\n",
              "\n",
              "  @keyframes spin {\n",
              "    0% {\n",
              "      border-color: transparent;\n",
              "      border-bottom-color: var(--fill-color);\n",
              "      border-left-color: var(--fill-color);\n",
              "    }\n",
              "    20% {\n",
              "      border-color: transparent;\n",
              "      border-left-color: var(--fill-color);\n",
              "      border-top-color: var(--fill-color);\n",
              "    }\n",
              "    30% {\n",
              "      border-color: transparent;\n",
              "      border-left-color: var(--fill-color);\n",
              "      border-top-color: var(--fill-color);\n",
              "      border-right-color: var(--fill-color);\n",
              "    }\n",
              "    40% {\n",
              "      border-color: transparent;\n",
              "      border-right-color: var(--fill-color);\n",
              "      border-top-color: var(--fill-color);\n",
              "    }\n",
              "    60% {\n",
              "      border-color: transparent;\n",
              "      border-right-color: var(--fill-color);\n",
              "    }\n",
              "    80% {\n",
              "      border-color: transparent;\n",
              "      border-right-color: var(--fill-color);\n",
              "      border-bottom-color: var(--fill-color);\n",
              "    }\n",
              "    90% {\n",
              "      border-color: transparent;\n",
              "      border-bottom-color: var(--fill-color);\n",
              "    }\n",
              "  }\n",
              "</style>\n",
              "\n",
              "  <script>\n",
              "    async function quickchart(key) {\n",
              "      const quickchartButtonEl =\n",
              "        document.querySelector('#' + key + ' button');\n",
              "      quickchartButtonEl.disabled = true;  // To prevent multiple clicks.\n",
              "      quickchartButtonEl.classList.add('colab-df-spinner');\n",
              "      try {\n",
              "        const charts = await google.colab.kernel.invokeFunction(\n",
              "            'suggestCharts', [key], {});\n",
              "      } catch (error) {\n",
              "        console.error('Error during call to suggestCharts:', error);\n",
              "      }\n",
              "      quickchartButtonEl.classList.remove('colab-df-spinner');\n",
              "      quickchartButtonEl.classList.add('colab-df-quickchart-complete');\n",
              "    }\n",
              "    (() => {\n",
              "      let quickchartButtonEl =\n",
              "        document.querySelector('#df-a50b2169-e0a7-4c6a-8b3b-9254e36426d8 button');\n",
              "      quickchartButtonEl.style.display =\n",
              "        google.colab.kernel.accessAllowed ? 'block' : 'none';\n",
              "    })();\n",
              "  </script>\n",
              "</div>\n",
              "    </div>\n",
              "  </div>\n"
            ]
          },
          "metadata": {},
          "execution_count": 160
        }
      ]
    },
    {
      "cell_type": "code",
      "source": [
        "train_df.info()"
      ],
      "metadata": {
        "colab": {
          "base_uri": "https://localhost:8080/"
        },
        "id": "Ve37SZ8KIte-",
        "outputId": "520e726e-a6f8-4ed4-da90-abc40cfa0fa4"
      },
      "execution_count": null,
      "outputs": [
        {
          "output_type": "stream",
          "name": "stdout",
          "text": [
            "<class 'pandas.core.frame.DataFrame'>\n",
            "RangeIndex: 3887 entries, 0 to 3886\n",
            "Data columns (total 3 columns):\n",
            " #   Column   Non-Null Count  Dtype \n",
            "---  ------   --------------  ----- \n",
            " 0   summary  3886 non-null   object\n",
            " 1   genre    3887 non-null   object\n",
            " 2   Label    3887 non-null   int64 \n",
            "dtypes: int64(1), object(2)\n",
            "memory usage: 91.2+ KB\n"
          ]
        }
      ]
    },
    {
      "cell_type": "code",
      "source": [
        "train_df.shape"
      ],
      "metadata": {
        "colab": {
          "base_uri": "https://localhost:8080/"
        },
        "id": "vey_I1buJ0Q2",
        "outputId": "f3a22528-eabe-42bb-93b8-343d3100ed5b"
      },
      "execution_count": null,
      "outputs": [
        {
          "output_type": "execute_result",
          "data": {
            "text/plain": [
              "(3887, 3)"
            ]
          },
          "metadata": {},
          "execution_count": 162
        }
      ]
    },
    {
      "cell_type": "code",
      "source": [
        "uni=train_df.genre.unique()\n",
        "print(f\"Categories of Trainset: {uni} and Count: {len(uni)}\")"
      ],
      "metadata": {
        "colab": {
          "base_uri": "https://localhost:8080/"
        },
        "id": "glmY1UTMKVXB",
        "outputId": "535c7cb2-4a0f-441a-94b5-6d2317e9441d"
      },
      "execution_count": null,
      "outputs": [
        {
          "output_type": "stream",
          "name": "stdout",
          "text": [
            "Categories of Trainset: ['Childrens-Book' 'Fiction' 'Political' 'Thriller' 'Science-Fiction'\n",
            " 'Motivational' 'War'] and Count: 7\n"
          ]
        }
      ]
    },
    {
      "cell_type": "markdown",
      "source": [
        "# Null Value"
      ],
      "metadata": {
        "id": "AH2dN4perdKJ"
      }
    },
    {
      "cell_type": "code",
      "source": [
        "train_df.isna().sum()"
      ],
      "metadata": {
        "colab": {
          "base_uri": "https://localhost:8080/"
        },
        "id": "U6wC6iRf0qci",
        "outputId": "3a6c8f57-d240-475e-b394-f3fc0b256a8d"
      },
      "execution_count": null,
      "outputs": [
        {
          "output_type": "execute_result",
          "data": {
            "text/plain": [
              "summary    1\n",
              "genre      0\n",
              "Label      0\n",
              "dtype: int64"
            ]
          },
          "metadata": {},
          "execution_count": 164
        }
      ]
    },
    {
      "cell_type": "code",
      "source": [
        "train_df.dropna(inplace=True)"
      ],
      "metadata": {
        "id": "m15YVdKE0qS7"
      },
      "execution_count": null,
      "outputs": []
    },
    {
      "cell_type": "markdown",
      "source": [
        "# Drop Summary length below 5"
      ],
      "metadata": {
        "id": "wkErtj4Xr2IQ"
      }
    },
    {
      "cell_type": "code",
      "source": [
        "train_df['count'] = train_df['summary'].str.split().str.len()\n",
        "train_df= train_df.loc[train_df['count']>5]"
      ],
      "metadata": {
        "id": "8YdKcYxZdcQx"
      },
      "execution_count": null,
      "outputs": []
    },
    {
      "cell_type": "code",
      "source": [
        "train_df.shape"
      ],
      "metadata": {
        "colab": {
          "base_uri": "https://localhost:8080/"
        },
        "id": "LFGfAFr2eq9y",
        "outputId": "eda008cc-f9ce-4d44-d5fd-135903708f5e"
      },
      "execution_count": null,
      "outputs": [
        {
          "output_type": "execute_result",
          "data": {
            "text/plain": [
              "(3760, 4)"
            ]
          },
          "metadata": {},
          "execution_count": 167
        }
      ]
    },
    {
      "cell_type": "code",
      "source": [
        "train_df.head()"
      ],
      "metadata": {
        "colab": {
          "base_uri": "https://localhost:8080/",
          "height": 206
        },
        "id": "YwIfJjuTetei",
        "outputId": "bcd1f044-a1e0-4cbb-f8c9-cc50bead1d75"
      },
      "execution_count": null,
      "outputs": [
        {
          "output_type": "execute_result",
          "data": {
            "text/plain": [
              "                                             summary           genre  Label  \\\n",
              "0  #BookReview\\r\\n\\r\\nবইঃ চাঁদের পাহাড়\\r\\nধরনঃ অ...  Childrens-Book      2   \n",
              "1  বেশির ভাগ বই ই আমার ভাললাগে। কিন্তু এই টাইপের ...         Fiction      0   \n",
              "2  মিসির আলি এখন তার ছাত্র ফারুকের শ্বশুর বাড়ি কই...         Fiction      0   \n",
              "3  ছোটজাতের ছোটজাত হাসিম। পিতৃপ্রদত্ত নামখানা একর...         Fiction      0   \n",
              "4  ফালতু একটা বই। পয়সা নষ্ট। বাজে লেখনী। একই জিনি...       Political      3   \n",
              "\n",
              "   count  \n",
              "0    676  \n",
              "1     67  \n",
              "2    214  \n",
              "3    380  \n",
              "4     13  "
            ],
            "text/html": [
              "\n",
              "  <div id=\"df-847485db-cce9-45e9-b7ad-0801f26fc31d\" class=\"colab-df-container\">\n",
              "    <div>\n",
              "<style scoped>\n",
              "    .dataframe tbody tr th:only-of-type {\n",
              "        vertical-align: middle;\n",
              "    }\n",
              "\n",
              "    .dataframe tbody tr th {\n",
              "        vertical-align: top;\n",
              "    }\n",
              "\n",
              "    .dataframe thead th {\n",
              "        text-align: right;\n",
              "    }\n",
              "</style>\n",
              "<table border=\"1\" class=\"dataframe\">\n",
              "  <thead>\n",
              "    <tr style=\"text-align: right;\">\n",
              "      <th></th>\n",
              "      <th>summary</th>\n",
              "      <th>genre</th>\n",
              "      <th>Label</th>\n",
              "      <th>count</th>\n",
              "    </tr>\n",
              "  </thead>\n",
              "  <tbody>\n",
              "    <tr>\n",
              "      <th>0</th>\n",
              "      <td>#BookReview\\r\\n\\r\\nবইঃ চাঁদের পাহাড়\\r\\nধরনঃ অ...</td>\n",
              "      <td>Childrens-Book</td>\n",
              "      <td>2</td>\n",
              "      <td>676</td>\n",
              "    </tr>\n",
              "    <tr>\n",
              "      <th>1</th>\n",
              "      <td>বেশির ভাগ বই ই আমার ভাললাগে। কিন্তু এই টাইপের ...</td>\n",
              "      <td>Fiction</td>\n",
              "      <td>0</td>\n",
              "      <td>67</td>\n",
              "    </tr>\n",
              "    <tr>\n",
              "      <th>2</th>\n",
              "      <td>মিসির আলি এখন তার ছাত্র ফারুকের শ্বশুর বাড়ি কই...</td>\n",
              "      <td>Fiction</td>\n",
              "      <td>0</td>\n",
              "      <td>214</td>\n",
              "    </tr>\n",
              "    <tr>\n",
              "      <th>3</th>\n",
              "      <td>ছোটজাতের ছোটজাত হাসিম। পিতৃপ্রদত্ত নামখানা একর...</td>\n",
              "      <td>Fiction</td>\n",
              "      <td>0</td>\n",
              "      <td>380</td>\n",
              "    </tr>\n",
              "    <tr>\n",
              "      <th>4</th>\n",
              "      <td>ফালতু একটা বই। পয়সা নষ্ট। বাজে লেখনী। একই জিনি...</td>\n",
              "      <td>Political</td>\n",
              "      <td>3</td>\n",
              "      <td>13</td>\n",
              "    </tr>\n",
              "  </tbody>\n",
              "</table>\n",
              "</div>\n",
              "    <div class=\"colab-df-buttons\">\n",
              "\n",
              "  <div class=\"colab-df-container\">\n",
              "    <button class=\"colab-df-convert\" onclick=\"convertToInteractive('df-847485db-cce9-45e9-b7ad-0801f26fc31d')\"\n",
              "            title=\"Convert this dataframe to an interactive table.\"\n",
              "            style=\"display:none;\">\n",
              "\n",
              "  <svg xmlns=\"http://www.w3.org/2000/svg\" height=\"24px\" viewBox=\"0 -960 960 960\">\n",
              "    <path d=\"M120-120v-720h720v720H120Zm60-500h600v-160H180v160Zm220 220h160v-160H400v160Zm0 220h160v-160H400v160ZM180-400h160v-160H180v160Zm440 0h160v-160H620v160ZM180-180h160v-160H180v160Zm440 0h160v-160H620v160Z\"/>\n",
              "  </svg>\n",
              "    </button>\n",
              "\n",
              "  <style>\n",
              "    .colab-df-container {\n",
              "      display:flex;\n",
              "      gap: 12px;\n",
              "    }\n",
              "\n",
              "    .colab-df-convert {\n",
              "      background-color: #E8F0FE;\n",
              "      border: none;\n",
              "      border-radius: 50%;\n",
              "      cursor: pointer;\n",
              "      display: none;\n",
              "      fill: #1967D2;\n",
              "      height: 32px;\n",
              "      padding: 0 0 0 0;\n",
              "      width: 32px;\n",
              "    }\n",
              "\n",
              "    .colab-df-convert:hover {\n",
              "      background-color: #E2EBFA;\n",
              "      box-shadow: 0px 1px 2px rgba(60, 64, 67, 0.3), 0px 1px 3px 1px rgba(60, 64, 67, 0.15);\n",
              "      fill: #174EA6;\n",
              "    }\n",
              "\n",
              "    .colab-df-buttons div {\n",
              "      margin-bottom: 4px;\n",
              "    }\n",
              "\n",
              "    [theme=dark] .colab-df-convert {\n",
              "      background-color: #3B4455;\n",
              "      fill: #D2E3FC;\n",
              "    }\n",
              "\n",
              "    [theme=dark] .colab-df-convert:hover {\n",
              "      background-color: #434B5C;\n",
              "      box-shadow: 0px 1px 3px 1px rgba(0, 0, 0, 0.15);\n",
              "      filter: drop-shadow(0px 1px 2px rgba(0, 0, 0, 0.3));\n",
              "      fill: #FFFFFF;\n",
              "    }\n",
              "  </style>\n",
              "\n",
              "    <script>\n",
              "      const buttonEl =\n",
              "        document.querySelector('#df-847485db-cce9-45e9-b7ad-0801f26fc31d button.colab-df-convert');\n",
              "      buttonEl.style.display =\n",
              "        google.colab.kernel.accessAllowed ? 'block' : 'none';\n",
              "\n",
              "      async function convertToInteractive(key) {\n",
              "        const element = document.querySelector('#df-847485db-cce9-45e9-b7ad-0801f26fc31d');\n",
              "        const dataTable =\n",
              "          await google.colab.kernel.invokeFunction('convertToInteractive',\n",
              "                                                    [key], {});\n",
              "        if (!dataTable) return;\n",
              "\n",
              "        const docLinkHtml = 'Like what you see? Visit the ' +\n",
              "          '<a target=\"_blank\" href=https://colab.research.google.com/notebooks/data_table.ipynb>data table notebook</a>'\n",
              "          + ' to learn more about interactive tables.';\n",
              "        element.innerHTML = '';\n",
              "        dataTable['output_type'] = 'display_data';\n",
              "        await google.colab.output.renderOutput(dataTable, element);\n",
              "        const docLink = document.createElement('div');\n",
              "        docLink.innerHTML = docLinkHtml;\n",
              "        element.appendChild(docLink);\n",
              "      }\n",
              "    </script>\n",
              "  </div>\n",
              "\n",
              "\n",
              "<div id=\"df-63fb0981-c236-4ab2-b12e-5dbc07c1b77e\">\n",
              "  <button class=\"colab-df-quickchart\" onclick=\"quickchart('df-63fb0981-c236-4ab2-b12e-5dbc07c1b77e')\"\n",
              "            title=\"Suggest charts\"\n",
              "            style=\"display:none;\">\n",
              "\n",
              "<svg xmlns=\"http://www.w3.org/2000/svg\" height=\"24px\"viewBox=\"0 0 24 24\"\n",
              "     width=\"24px\">\n",
              "    <g>\n",
              "        <path d=\"M19 3H5c-1.1 0-2 .9-2 2v14c0 1.1.9 2 2 2h14c1.1 0 2-.9 2-2V5c0-1.1-.9-2-2-2zM9 17H7v-7h2v7zm4 0h-2V7h2v10zm4 0h-2v-4h2v4z\"/>\n",
              "    </g>\n",
              "</svg>\n",
              "  </button>\n",
              "\n",
              "<style>\n",
              "  .colab-df-quickchart {\n",
              "      --bg-color: #E8F0FE;\n",
              "      --fill-color: #1967D2;\n",
              "      --hover-bg-color: #E2EBFA;\n",
              "      --hover-fill-color: #174EA6;\n",
              "      --disabled-fill-color: #AAA;\n",
              "      --disabled-bg-color: #DDD;\n",
              "  }\n",
              "\n",
              "  [theme=dark] .colab-df-quickchart {\n",
              "      --bg-color: #3B4455;\n",
              "      --fill-color: #D2E3FC;\n",
              "      --hover-bg-color: #434B5C;\n",
              "      --hover-fill-color: #FFFFFF;\n",
              "      --disabled-bg-color: #3B4455;\n",
              "      --disabled-fill-color: #666;\n",
              "  }\n",
              "\n",
              "  .colab-df-quickchart {\n",
              "    background-color: var(--bg-color);\n",
              "    border: none;\n",
              "    border-radius: 50%;\n",
              "    cursor: pointer;\n",
              "    display: none;\n",
              "    fill: var(--fill-color);\n",
              "    height: 32px;\n",
              "    padding: 0;\n",
              "    width: 32px;\n",
              "  }\n",
              "\n",
              "  .colab-df-quickchart:hover {\n",
              "    background-color: var(--hover-bg-color);\n",
              "    box-shadow: 0 1px 2px rgba(60, 64, 67, 0.3), 0 1px 3px 1px rgba(60, 64, 67, 0.15);\n",
              "    fill: var(--button-hover-fill-color);\n",
              "  }\n",
              "\n",
              "  .colab-df-quickchart-complete:disabled,\n",
              "  .colab-df-quickchart-complete:disabled:hover {\n",
              "    background-color: var(--disabled-bg-color);\n",
              "    fill: var(--disabled-fill-color);\n",
              "    box-shadow: none;\n",
              "  }\n",
              "\n",
              "  .colab-df-spinner {\n",
              "    border: 2px solid var(--fill-color);\n",
              "    border-color: transparent;\n",
              "    border-bottom-color: var(--fill-color);\n",
              "    animation:\n",
              "      spin 1s steps(1) infinite;\n",
              "  }\n",
              "\n",
              "  @keyframes spin {\n",
              "    0% {\n",
              "      border-color: transparent;\n",
              "      border-bottom-color: var(--fill-color);\n",
              "      border-left-color: var(--fill-color);\n",
              "    }\n",
              "    20% {\n",
              "      border-color: transparent;\n",
              "      border-left-color: var(--fill-color);\n",
              "      border-top-color: var(--fill-color);\n",
              "    }\n",
              "    30% {\n",
              "      border-color: transparent;\n",
              "      border-left-color: var(--fill-color);\n",
              "      border-top-color: var(--fill-color);\n",
              "      border-right-color: var(--fill-color);\n",
              "    }\n",
              "    40% {\n",
              "      border-color: transparent;\n",
              "      border-right-color: var(--fill-color);\n",
              "      border-top-color: var(--fill-color);\n",
              "    }\n",
              "    60% {\n",
              "      border-color: transparent;\n",
              "      border-right-color: var(--fill-color);\n",
              "    }\n",
              "    80% {\n",
              "      border-color: transparent;\n",
              "      border-right-color: var(--fill-color);\n",
              "      border-bottom-color: var(--fill-color);\n",
              "    }\n",
              "    90% {\n",
              "      border-color: transparent;\n",
              "      border-bottom-color: var(--fill-color);\n",
              "    }\n",
              "  }\n",
              "</style>\n",
              "\n",
              "  <script>\n",
              "    async function quickchart(key) {\n",
              "      const quickchartButtonEl =\n",
              "        document.querySelector('#' + key + ' button');\n",
              "      quickchartButtonEl.disabled = true;  // To prevent multiple clicks.\n",
              "      quickchartButtonEl.classList.add('colab-df-spinner');\n",
              "      try {\n",
              "        const charts = await google.colab.kernel.invokeFunction(\n",
              "            'suggestCharts', [key], {});\n",
              "      } catch (error) {\n",
              "        console.error('Error during call to suggestCharts:', error);\n",
              "      }\n",
              "      quickchartButtonEl.classList.remove('colab-df-spinner');\n",
              "      quickchartButtonEl.classList.add('colab-df-quickchart-complete');\n",
              "    }\n",
              "    (() => {\n",
              "      let quickchartButtonEl =\n",
              "        document.querySelector('#df-63fb0981-c236-4ab2-b12e-5dbc07c1b77e button');\n",
              "      quickchartButtonEl.style.display =\n",
              "        google.colab.kernel.accessAllowed ? 'block' : 'none';\n",
              "    })();\n",
              "  </script>\n",
              "</div>\n",
              "    </div>\n",
              "  </div>\n"
            ]
          },
          "metadata": {},
          "execution_count": 168
        }
      ]
    },
    {
      "cell_type": "markdown",
      "source": [
        "# Dataset pre-processing"
      ],
      "metadata": {
        "id": "1cH_1i1Hsfl4"
      }
    },
    {
      "cell_type": "code",
      "source": [
        "\n",
        "df = pd.DataFrame(train_df['summary'])\n",
        "\n",
        "def is_english(text):\n",
        "    language, confidence = langid.classify(text)\n",
        "    return language == 'en'\n",
        "\n",
        "df['is_english'] = df['summary'].apply(is_english)\n",
        "\n",
        "english_count = df['is_english'].sum()\n",
        "english_indices = df.loc[df['is_english']].summary\n",
        "\n",
        "print(f\"Row indices with fully English text: \\n{english_indices}\")"
      ],
      "metadata": {
        "colab": {
          "base_uri": "https://localhost:8080/"
        },
        "id": "e8BjU8pWr_AR",
        "outputId": "402d877b-45f2-4e5d-b291-69983c7d76bf"
      },
      "execution_count": null,
      "outputs": [
        {
          "output_type": "stream",
          "name": "stdout",
          "text": [
            "Row indices with fully English text: \n",
            "36      Average quality story if compare with other fe...\n",
            "38            When this book will available in your stock\n",
            "41      this book is anisul haque's first novel and in...\n",
            "98      This book is a rare piece of property for Bang...\n",
            "124     It’sa great book. Very informative.  I'm total...\n",
            "                              ...                        \n",
            "3671    Not as a my friend of the writer, I would say ...\n",
            "3780    Almost all the stories written by Dr. Jafor Si...\n",
            "3784    It is a Great Book of that time Political Parties\n",
            "3817              A brief journey into Pakistan period...\n",
            "3863    Himu... himu... himu\\r\\nWhat can I really say ...\n",
            "Name: summary, Length: 98, dtype: object\n"
          ]
        }
      ]
    },
    {
      "cell_type": "code",
      "source": [
        "print(f\"Number of cells with fully English text: {english_count}\")"
      ],
      "metadata": {
        "colab": {
          "base_uri": "https://localhost:8080/"
        },
        "id": "9zPda8DsDufI",
        "outputId": "8776bad6-083d-4676-eee5-805ed7e8dcd1"
      },
      "execution_count": null,
      "outputs": [
        {
          "output_type": "stream",
          "name": "stdout",
          "text": [
            "Number of cells with fully English text: 98\n"
          ]
        }
      ]
    },
    {
      "cell_type": "code",
      "source": [
        "train_df['is_english'] = df['is_english']"
      ],
      "metadata": {
        "id": "jQUwCGyNuHaJ"
      },
      "execution_count": null,
      "outputs": []
    },
    {
      "cell_type": "code",
      "source": [
        "train_df.head(7)"
      ],
      "metadata": {
        "colab": {
          "base_uri": "https://localhost:8080/",
          "height": 269
        },
        "id": "OwMVQlQOvTCw",
        "outputId": "e9bc953a-37d1-45f2-bac7-3ae8e7761395"
      },
      "execution_count": null,
      "outputs": [
        {
          "output_type": "execute_result",
          "data": {
            "text/plain": [
              "                                             summary           genre  Label  \\\n",
              "0  #BookReview\\r\\n\\r\\nবইঃ চাঁদের পাহাড়\\r\\nধরনঃ অ...  Childrens-Book      2   \n",
              "1  বেশির ভাগ বই ই আমার ভাললাগে। কিন্তু এই টাইপের ...         Fiction      0   \n",
              "2  মিসির আলি এখন তার ছাত্র ফারুকের শ্বশুর বাড়ি কই...         Fiction      0   \n",
              "3  ছোটজাতের ছোটজাত হাসিম। পিতৃপ্রদত্ত নামখানা একর...         Fiction      0   \n",
              "4  ফালতু একটা বই। পয়সা নষ্ট। বাজে লেখনী। একই জিনি...       Political      3   \n",
              "5  #রকমারি_বইপোকা_রিভিউ_প্রতিযোগিতা।\\r\\n বইয়ের না...         Fiction      0   \n",
              "6  #রকমারি_বইপোকা_রিভিউ_প্রতিযোগিতা বইঃ বোতল ভূত ...  Childrens-Book      2   \n",
              "\n",
              "   count  is_english  \n",
              "0    676       False  \n",
              "1     67       False  \n",
              "2    214       False  \n",
              "3    380       False  \n",
              "4     13       False  \n",
              "5    205       False  \n",
              "6    257       False  "
            ],
            "text/html": [
              "\n",
              "  <div id=\"df-c2e049f8-7d05-4ddd-81b6-00943089025f\" class=\"colab-df-container\">\n",
              "    <div>\n",
              "<style scoped>\n",
              "    .dataframe tbody tr th:only-of-type {\n",
              "        vertical-align: middle;\n",
              "    }\n",
              "\n",
              "    .dataframe tbody tr th {\n",
              "        vertical-align: top;\n",
              "    }\n",
              "\n",
              "    .dataframe thead th {\n",
              "        text-align: right;\n",
              "    }\n",
              "</style>\n",
              "<table border=\"1\" class=\"dataframe\">\n",
              "  <thead>\n",
              "    <tr style=\"text-align: right;\">\n",
              "      <th></th>\n",
              "      <th>summary</th>\n",
              "      <th>genre</th>\n",
              "      <th>Label</th>\n",
              "      <th>count</th>\n",
              "      <th>is_english</th>\n",
              "    </tr>\n",
              "  </thead>\n",
              "  <tbody>\n",
              "    <tr>\n",
              "      <th>0</th>\n",
              "      <td>#BookReview\\r\\n\\r\\nবইঃ চাঁদের পাহাড়\\r\\nধরনঃ অ...</td>\n",
              "      <td>Childrens-Book</td>\n",
              "      <td>2</td>\n",
              "      <td>676</td>\n",
              "      <td>False</td>\n",
              "    </tr>\n",
              "    <tr>\n",
              "      <th>1</th>\n",
              "      <td>বেশির ভাগ বই ই আমার ভাললাগে। কিন্তু এই টাইপের ...</td>\n",
              "      <td>Fiction</td>\n",
              "      <td>0</td>\n",
              "      <td>67</td>\n",
              "      <td>False</td>\n",
              "    </tr>\n",
              "    <tr>\n",
              "      <th>2</th>\n",
              "      <td>মিসির আলি এখন তার ছাত্র ফারুকের শ্বশুর বাড়ি কই...</td>\n",
              "      <td>Fiction</td>\n",
              "      <td>0</td>\n",
              "      <td>214</td>\n",
              "      <td>False</td>\n",
              "    </tr>\n",
              "    <tr>\n",
              "      <th>3</th>\n",
              "      <td>ছোটজাতের ছোটজাত হাসিম। পিতৃপ্রদত্ত নামখানা একর...</td>\n",
              "      <td>Fiction</td>\n",
              "      <td>0</td>\n",
              "      <td>380</td>\n",
              "      <td>False</td>\n",
              "    </tr>\n",
              "    <tr>\n",
              "      <th>4</th>\n",
              "      <td>ফালতু একটা বই। পয়সা নষ্ট। বাজে লেখনী। একই জিনি...</td>\n",
              "      <td>Political</td>\n",
              "      <td>3</td>\n",
              "      <td>13</td>\n",
              "      <td>False</td>\n",
              "    </tr>\n",
              "    <tr>\n",
              "      <th>5</th>\n",
              "      <td>#রকমারি_বইপোকা_রিভিউ_প্রতিযোগিতা।\\r\\n বইয়ের না...</td>\n",
              "      <td>Fiction</td>\n",
              "      <td>0</td>\n",
              "      <td>205</td>\n",
              "      <td>False</td>\n",
              "    </tr>\n",
              "    <tr>\n",
              "      <th>6</th>\n",
              "      <td>#রকমারি_বইপোকা_রিভিউ_প্রতিযোগিতা বইঃ বোতল ভূত ...</td>\n",
              "      <td>Childrens-Book</td>\n",
              "      <td>2</td>\n",
              "      <td>257</td>\n",
              "      <td>False</td>\n",
              "    </tr>\n",
              "  </tbody>\n",
              "</table>\n",
              "</div>\n",
              "    <div class=\"colab-df-buttons\">\n",
              "\n",
              "  <div class=\"colab-df-container\">\n",
              "    <button class=\"colab-df-convert\" onclick=\"convertToInteractive('df-c2e049f8-7d05-4ddd-81b6-00943089025f')\"\n",
              "            title=\"Convert this dataframe to an interactive table.\"\n",
              "            style=\"display:none;\">\n",
              "\n",
              "  <svg xmlns=\"http://www.w3.org/2000/svg\" height=\"24px\" viewBox=\"0 -960 960 960\">\n",
              "    <path d=\"M120-120v-720h720v720H120Zm60-500h600v-160H180v160Zm220 220h160v-160H400v160Zm0 220h160v-160H400v160ZM180-400h160v-160H180v160Zm440 0h160v-160H620v160ZM180-180h160v-160H180v160Zm440 0h160v-160H620v160Z\"/>\n",
              "  </svg>\n",
              "    </button>\n",
              "\n",
              "  <style>\n",
              "    .colab-df-container {\n",
              "      display:flex;\n",
              "      gap: 12px;\n",
              "    }\n",
              "\n",
              "    .colab-df-convert {\n",
              "      background-color: #E8F0FE;\n",
              "      border: none;\n",
              "      border-radius: 50%;\n",
              "      cursor: pointer;\n",
              "      display: none;\n",
              "      fill: #1967D2;\n",
              "      height: 32px;\n",
              "      padding: 0 0 0 0;\n",
              "      width: 32px;\n",
              "    }\n",
              "\n",
              "    .colab-df-convert:hover {\n",
              "      background-color: #E2EBFA;\n",
              "      box-shadow: 0px 1px 2px rgba(60, 64, 67, 0.3), 0px 1px 3px 1px rgba(60, 64, 67, 0.15);\n",
              "      fill: #174EA6;\n",
              "    }\n",
              "\n",
              "    .colab-df-buttons div {\n",
              "      margin-bottom: 4px;\n",
              "    }\n",
              "\n",
              "    [theme=dark] .colab-df-convert {\n",
              "      background-color: #3B4455;\n",
              "      fill: #D2E3FC;\n",
              "    }\n",
              "\n",
              "    [theme=dark] .colab-df-convert:hover {\n",
              "      background-color: #434B5C;\n",
              "      box-shadow: 0px 1px 3px 1px rgba(0, 0, 0, 0.15);\n",
              "      filter: drop-shadow(0px 1px 2px rgba(0, 0, 0, 0.3));\n",
              "      fill: #FFFFFF;\n",
              "    }\n",
              "  </style>\n",
              "\n",
              "    <script>\n",
              "      const buttonEl =\n",
              "        document.querySelector('#df-c2e049f8-7d05-4ddd-81b6-00943089025f button.colab-df-convert');\n",
              "      buttonEl.style.display =\n",
              "        google.colab.kernel.accessAllowed ? 'block' : 'none';\n",
              "\n",
              "      async function convertToInteractive(key) {\n",
              "        const element = document.querySelector('#df-c2e049f8-7d05-4ddd-81b6-00943089025f');\n",
              "        const dataTable =\n",
              "          await google.colab.kernel.invokeFunction('convertToInteractive',\n",
              "                                                    [key], {});\n",
              "        if (!dataTable) return;\n",
              "\n",
              "        const docLinkHtml = 'Like what you see? Visit the ' +\n",
              "          '<a target=\"_blank\" href=https://colab.research.google.com/notebooks/data_table.ipynb>data table notebook</a>'\n",
              "          + ' to learn more about interactive tables.';\n",
              "        element.innerHTML = '';\n",
              "        dataTable['output_type'] = 'display_data';\n",
              "        await google.colab.output.renderOutput(dataTable, element);\n",
              "        const docLink = document.createElement('div');\n",
              "        docLink.innerHTML = docLinkHtml;\n",
              "        element.appendChild(docLink);\n",
              "      }\n",
              "    </script>\n",
              "  </div>\n",
              "\n",
              "\n",
              "<div id=\"df-7c70b9a9-e6ae-4b9b-8edc-6c8dff3da25a\">\n",
              "  <button class=\"colab-df-quickchart\" onclick=\"quickchart('df-7c70b9a9-e6ae-4b9b-8edc-6c8dff3da25a')\"\n",
              "            title=\"Suggest charts\"\n",
              "            style=\"display:none;\">\n",
              "\n",
              "<svg xmlns=\"http://www.w3.org/2000/svg\" height=\"24px\"viewBox=\"0 0 24 24\"\n",
              "     width=\"24px\">\n",
              "    <g>\n",
              "        <path d=\"M19 3H5c-1.1 0-2 .9-2 2v14c0 1.1.9 2 2 2h14c1.1 0 2-.9 2-2V5c0-1.1-.9-2-2-2zM9 17H7v-7h2v7zm4 0h-2V7h2v10zm4 0h-2v-4h2v4z\"/>\n",
              "    </g>\n",
              "</svg>\n",
              "  </button>\n",
              "\n",
              "<style>\n",
              "  .colab-df-quickchart {\n",
              "      --bg-color: #E8F0FE;\n",
              "      --fill-color: #1967D2;\n",
              "      --hover-bg-color: #E2EBFA;\n",
              "      --hover-fill-color: #174EA6;\n",
              "      --disabled-fill-color: #AAA;\n",
              "      --disabled-bg-color: #DDD;\n",
              "  }\n",
              "\n",
              "  [theme=dark] .colab-df-quickchart {\n",
              "      --bg-color: #3B4455;\n",
              "      --fill-color: #D2E3FC;\n",
              "      --hover-bg-color: #434B5C;\n",
              "      --hover-fill-color: #FFFFFF;\n",
              "      --disabled-bg-color: #3B4455;\n",
              "      --disabled-fill-color: #666;\n",
              "  }\n",
              "\n",
              "  .colab-df-quickchart {\n",
              "    background-color: var(--bg-color);\n",
              "    border: none;\n",
              "    border-radius: 50%;\n",
              "    cursor: pointer;\n",
              "    display: none;\n",
              "    fill: var(--fill-color);\n",
              "    height: 32px;\n",
              "    padding: 0;\n",
              "    width: 32px;\n",
              "  }\n",
              "\n",
              "  .colab-df-quickchart:hover {\n",
              "    background-color: var(--hover-bg-color);\n",
              "    box-shadow: 0 1px 2px rgba(60, 64, 67, 0.3), 0 1px 3px 1px rgba(60, 64, 67, 0.15);\n",
              "    fill: var(--button-hover-fill-color);\n",
              "  }\n",
              "\n",
              "  .colab-df-quickchart-complete:disabled,\n",
              "  .colab-df-quickchart-complete:disabled:hover {\n",
              "    background-color: var(--disabled-bg-color);\n",
              "    fill: var(--disabled-fill-color);\n",
              "    box-shadow: none;\n",
              "  }\n",
              "\n",
              "  .colab-df-spinner {\n",
              "    border: 2px solid var(--fill-color);\n",
              "    border-color: transparent;\n",
              "    border-bottom-color: var(--fill-color);\n",
              "    animation:\n",
              "      spin 1s steps(1) infinite;\n",
              "  }\n",
              "\n",
              "  @keyframes spin {\n",
              "    0% {\n",
              "      border-color: transparent;\n",
              "      border-bottom-color: var(--fill-color);\n",
              "      border-left-color: var(--fill-color);\n",
              "    }\n",
              "    20% {\n",
              "      border-color: transparent;\n",
              "      border-left-color: var(--fill-color);\n",
              "      border-top-color: var(--fill-color);\n",
              "    }\n",
              "    30% {\n",
              "      border-color: transparent;\n",
              "      border-left-color: var(--fill-color);\n",
              "      border-top-color: var(--fill-color);\n",
              "      border-right-color: var(--fill-color);\n",
              "    }\n",
              "    40% {\n",
              "      border-color: transparent;\n",
              "      border-right-color: var(--fill-color);\n",
              "      border-top-color: var(--fill-color);\n",
              "    }\n",
              "    60% {\n",
              "      border-color: transparent;\n",
              "      border-right-color: var(--fill-color);\n",
              "    }\n",
              "    80% {\n",
              "      border-color: transparent;\n",
              "      border-right-color: var(--fill-color);\n",
              "      border-bottom-color: var(--fill-color);\n",
              "    }\n",
              "    90% {\n",
              "      border-color: transparent;\n",
              "      border-bottom-color: var(--fill-color);\n",
              "    }\n",
              "  }\n",
              "</style>\n",
              "\n",
              "  <script>\n",
              "    async function quickchart(key) {\n",
              "      const quickchartButtonEl =\n",
              "        document.querySelector('#' + key + ' button');\n",
              "      quickchartButtonEl.disabled = true;  // To prevent multiple clicks.\n",
              "      quickchartButtonEl.classList.add('colab-df-spinner');\n",
              "      try {\n",
              "        const charts = await google.colab.kernel.invokeFunction(\n",
              "            'suggestCharts', [key], {});\n",
              "      } catch (error) {\n",
              "        console.error('Error during call to suggestCharts:', error);\n",
              "      }\n",
              "      quickchartButtonEl.classList.remove('colab-df-spinner');\n",
              "      quickchartButtonEl.classList.add('colab-df-quickchart-complete');\n",
              "    }\n",
              "    (() => {\n",
              "      let quickchartButtonEl =\n",
              "        document.querySelector('#df-7c70b9a9-e6ae-4b9b-8edc-6c8dff3da25a button');\n",
              "      quickchartButtonEl.style.display =\n",
              "        google.colab.kernel.accessAllowed ? 'block' : 'none';\n",
              "    })();\n",
              "  </script>\n",
              "</div>\n",
              "    </div>\n",
              "  </div>\n"
            ]
          },
          "metadata": {},
          "execution_count": 172
        }
      ]
    },
    {
      "cell_type": "markdown",
      "source": [
        "# Remove Punctuation"
      ],
      "metadata": {
        "id": "xyt9nq4H1nnn"
      }
    },
    {
      "cell_type": "markdown",
      "source": [
        "\n",
        "\n",
        "1.   Preprocess only in Bangla (Need to discuss what should we do for english)\n",
        "2.   Did not remove many unnecessary words like (prishta number, mullo, lekhok, taka)\n",
        "\n"
      ],
      "metadata": {
        "id": "vMvHFOO6Fmuc"
      }
    },
    {
      "cell_type": "code",
      "source": [
        "def remove_punctuations(text, is_english):\n",
        "    if not is_english:\n",
        "        emoji_pattern = re.compile(\"[\"\n",
        "                                   u\"\\U0001F600-\\U0001F64F\"  # emoticons\n",
        "                                   u\"\\U0001F300-\\U0001F5FF\"  # symbols & pictographs\n",
        "                                   u\"\\U0001F680-\\U0001F6FF\"  # transport & map symbols\n",
        "                                   u\"\\U0001F700-\\U0001F77F\"  # alchemical symbols\n",
        "                                   u\"\\U0001F780-\\U0001F7FF\"  # Geometric Shapes Extended\n",
        "                                   u\"\\U0001F800-\\U0001F8FF\"  # Supplemental Arrows-C\n",
        "                                   u\"\\U0001F900-\\U0001F9FF\"  # Supplemental Symbols and Pictographs\n",
        "                                   u\"\\U0001FA00-\\U0001FA6F\"  # Chess Symbols\n",
        "                                   u\"\\U0001FA70-\\U0001FAFF\"  # Symbols and Pictographs Extended-A\n",
        "                                   u\"\\U00002702-\\U000027B0\"  # Dingbats\n",
        "                                   u\"\\U000024C2-\\U0001F251\"\n",
        "                                   \"]+\", flags=re.UNICODE)\n",
        "        text = emoji_pattern.sub(r'', text)\n",
        "\n",
        "        whitespace = re.compile(u\"[\\s\\u0020\\u00a0\\u1680\\u180e\\u202f\\u205f\\u3000\\u2000-\\u200a]+\", re.UNICODE)\n",
        "        bangla_fullstop = u\"\\u0964\"\n",
        "        punctSeq = u\"['\\\"“”‘’]+|[.?!,…]+|[:;]+\"\n",
        "        punc = u\"[(),$%^&*+={}\\[\\]:\\\"\\৷|\\'\\~`<>/,¦!?½£¶¼©⅐⅑⅒⅓⅔⅕⅖⅗⅘⅙⅚⅛⅜⅝⅞⅟↉¤¿º;-]+\"\n",
        "\n",
        "        text = re.sub(r'(^|\\s)@(\\w+)', r'\\1@user', text)\n",
        "        text = re.sub(r'\\bhttps?://\\S+\\b', '', text)\n",
        "        text = whitespace.sub(\" \", text).strip()\n",
        "        text = re.sub(punctSeq, \" \", text)\n",
        "        text = re.sub(bangla_fullstop, \" \", text)\n",
        "        text = re.sub(punc, \" \", text)\n",
        "        text = re.sub('[!\"#$%&\\'()*+,-./:;<=>?@[\\]^_`{|}~]', ' ', text)\n",
        "        text = text.replace(\"\\\\\", \" \")\n",
        "\n",
        "    else:\n",
        "        text = re.sub(r'(^|\\s)@(\\w+)', r'\\1@user', text)\n",
        "        text = re.sub(r'\\bhttps?://\\S+\\b', '', text)\n",
        "        text = re.sub(r'[^a-zA-Z\\s]', '', text)\n",
        "        text = text.lower()\n",
        "\n",
        "        tokens = word_tokenize(text)\n",
        "        stop_words = set(stopwords.words('english'))\n",
        "        tokens = [token for token in tokens if token not in stop_words]\n",
        "        text = ' '.join(tokens)\n",
        "\n",
        "    return text\n",
        "\n",
        "train_df['summary'] = train_df.apply(lambda row: remove_punctuations(row['summary'], row['is_english']), axis=1)\n"
      ],
      "metadata": {
        "id": "ImK8Fa5WtVTa"
      },
      "execution_count": null,
      "outputs": []
    },
    {
      "cell_type": "code",
      "source": [
        "train_df['summary'][6]"
      ],
      "metadata": {
        "colab": {
          "base_uri": "https://localhost:8080/",
          "height": 107
        },
        "id": "j4vXqHHrvkHc",
        "outputId": "ff5183ea-7702-4beb-f2e0-538a07877f32"
      },
      "execution_count": null,
      "outputs": [
        {
          "output_type": "execute_result",
          "data": {
            "text/plain": [
              "' রকমারি বইপোকা রিভিউ প্রতিযোগিতা বইঃ বোতল ভূত লেখকঃ হুমায়ূন আহমেদ প্রকাশনীঃ প্রতীক প্রকাশনা সংস্থা প্রচ্ছদঃ ধ্রুব এষ পৃষ্ঠাঃ ৬৪ মুদ্রিত মুল্যঃ ১০০৳  রিভিউঃ  বোতল ভূত  মূলত শিশু কিশোরদের জন্যে রচিত উপন্যাস  মজার ভৌতিক গল্প বললেও ভুল হবে না  বইটি পড়ে আমার মনে হয়েছে তা বড়দেরও আনন্দ দিতে পারে  সুতারাং বড় ছোট সকলে পড়তে পারেন এই বইটি  উপন্যাসে হুমায়ুন আহমেদ উত্তম পুরুষে কাহিনীর বর্ণনা দিয়ে যান  একদিন ক্লাসে এগারো বছর বয়সী লেখাপড়ায় বিমুখ হুমায়ুন আহমেদকে তার বন্ধু মুনির অবাক করে দিয়ে বলল   এই হুমায়ুন  ভূত পুষবি   ভূত পুষবে মানে  ভূত কি কুকুর ছানা নাকি যা চাইলে সহজে পোষা যায়  এমন প্রশ্নগুলো হুমায়ুনের মনে কৌতূহল বাড়াতে থাকে  সাথে সাথে সে রাজি হয়ে রওনা দেয় ভুতের বাচ্চা আনতে  তখন সন্ধ্যাবেলা  গাছপালায় ঢাকা জঙ্গুলে জায়গায় শেওলা ঢাকা দো তলা বাড়িতে তারা উপস্থিত হয়  বাড়ির নাম শান্তিনিকেতন  দরজায় কড়া নাড়তেই বেরিয়ে আসে সন্ন্যাসীর মতন চেহারার একলোক  ঠিক যেন দেখতে অবিকল রবীন্দ্রনাথ ঠাকুরের মতন  পরনে আলখাল্লার মত লম্বা পোশাক  লোকটির আগে অন্য নাম ছিল  এখন অবশ্য সকলে রবিবাবু নামেই ডাকে  কি অদ্ভুত  তাই না  সেই অদ্ভুত লোকটিই ছোট্ট শিশিতে ভরে দিল ভুতের বাচ্চা  সেই ভুতের বাচ্চাকে সঙ্গে করে হুমায়ুন যখন ঘরে এলো তখন কি হল জানতে নিশ্চয় ইচ্ছে করছে  না থাক  আমি আর বলে গল্পের মজা নষ্ট করতে চাইনা  আপনারাই পড়ে ফেলুন এই ব্যতিক্রমধর্মী মজার ভৌতিক উপন্যাসটি  হুমায়ুন আহমেদের উপন্যাসগুলো বরাবরই সাহিত্যরস সমৃদ্ধ ও সুখপাঠ্য  আর ছোটোদের জন্যে  বোতল ভু্ত  ক্ষেত্রে এর ব্যততায় ঘটেনি  লেখায় মূলভাব প্রকাশে লেখক ছিলেন সহজ ও সাবলীল  যা ছোটদের জন্যে একেবারে পাঠের উপযোগী  বইটির রেটিং ১০ এ ১০ দিলেও কম হয়ে যায়  আপনার বাচ্চাকে গিফট করতে বা নিজের সংগ্রহে রাখতে আজই কিনে ফেলুন  রকমারি লিঙ্কঃ'"
            ],
            "application/vnd.google.colaboratory.intrinsic+json": {
              "type": "string"
            }
          },
          "metadata": {},
          "execution_count": 174
        }
      ]
    },
    {
      "cell_type": "markdown",
      "source": [
        "# Remove Stopwords"
      ],
      "metadata": {
        "id": "QZnmnaAt1rFP"
      }
    },
    {
      "cell_type": "code",
      "source": [
        "not_imp_word = ['রকমারি', 'লিঙ্কঃ','রিভিউ','লেখকঃ','প্রকাশনীঃ', 'প্রচ্ছদঃ', 'পৃষ্ঠাঃ', 'মুল্যঃ','রিভিউঃ','রেটিং','বইঃ','মুদ্রিত','প্রকাশনা']\n"
      ],
      "metadata": {
        "id": "TBxF8ofH36Sf"
      },
      "execution_count": null,
      "outputs": []
    },
    {
      "cell_type": "code",
      "source": [
        "from collections import Counter\n",
        "cnt = Counter()\n",
        "for text in train_df['summary'].values:\n",
        "    for word in text.split():\n",
        "        cnt[word] += 1\n",
        "sorted_cnt = dict(sorted(cnt.items(), key=lambda item: item[1], reverse= True))\n",
        "sorted_cnt = Counter(sorted_cnt)\n",
        "print('Total Unique Words:', len(sorted_cnt))"
      ],
      "metadata": {
        "colab": {
          "base_uri": "https://localhost:8080/"
        },
        "id": "zHu1JTjy2oGs",
        "outputId": "47e1c644-af26-4006-85ae-b51558809209"
      },
      "execution_count": null,
      "outputs": [
        {
          "output_type": "stream",
          "name": "stdout",
          "text": [
            "Total Unique Words: 74493\n"
          ]
        }
      ]
    },
    {
      "cell_type": "code",
      "source": [
        "print('Top 15 frequent words:')\n",
        "for word, frequency in sorted_cnt.most_common(15):\n",
        "    print(f'{word}: {frequency}')"
      ],
      "metadata": {
        "colab": {
          "base_uri": "https://localhost:8080/"
        },
        "id": "_wRdndZR9kcn",
        "outputId": "ea36b3d0-cb84-43e0-d829-f10ebae28768"
      },
      "execution_count": null,
      "outputs": [
        {
          "output_type": "stream",
          "name": "stdout",
          "text": [
            "Top 15 frequent words:\n",
            "এক: 7751\n",
            "একটা: 5108\n",
            "সাথে: 5105\n",
            "যায়: 4537\n",
            "বই: 4366\n",
            "লেখক: 4313\n",
            "হয়ে: 4001\n",
            "কথা: 3474\n",
            "বইটি: 3353\n",
            "হয়েছে: 3094\n",
            "একজন: 2634\n",
            "পড়ে: 2629\n",
            "উপন্যাস: 2614\n",
            "ভালো: 2573\n",
            "গল্প: 2554\n"
          ]
        }
      ]
    },
    {
      "cell_type": "code",
      "source": [
        "stop_word_list = (stopwords.words('bengali'))\n",
        "stop_word_list+=not_imp_word\n",
        "def stopword_remover(doc):\n",
        "\ttokens = doc.split()\n",
        "\tstop_words = stop_word_list\n",
        "\ttokens = [w for w in tokens if not w in stop_words]\n",
        "\ttokens = ' '.join(tokens)\n",
        "\treturn tokens\n",
        "train_df['summary'] = train_df.summary.apply(stopword_remover)"
      ],
      "metadata": {
        "id": "TzYP-tBbyTih"
      },
      "execution_count": null,
      "outputs": []
    },
    {
      "cell_type": "code",
      "source": [
        "from collections import Counter\n",
        "cnt = Counter()\n",
        "for text in train_df['summary'].values:\n",
        "    for word in text.split():\n",
        "        cnt[word] += 1\n",
        "sorted_cnt = dict(sorted(cnt.items(), key=lambda item: item[1], reverse= True))\n",
        "sorted_cnt = Counter(sorted_cnt)\n",
        "print('Total Unique Words:', len(sorted_cnt))"
      ],
      "metadata": {
        "id": "BJyofE9G1vRA",
        "colab": {
          "base_uri": "https://localhost:8080/"
        },
        "outputId": "74d1ade2-ae05-4345-babb-020087885f83"
      },
      "execution_count": null,
      "outputs": [
        {
          "output_type": "stream",
          "name": "stdout",
          "text": [
            "Total Unique Words: 74490\n"
          ]
        }
      ]
    },
    {
      "cell_type": "code",
      "source": [
        "print('Top 30 frequent words:')\n",
        "for word, frequency in sorted_cnt.most_common(30):\n",
        "    print(f'{word}: {frequency}')"
      ],
      "metadata": {
        "colab": {
          "base_uri": "https://localhost:8080/"
        },
        "id": "ia6mG34u89S-",
        "outputId": "8d290024-e24d-437b-cf34-2c48468df101"
      },
      "execution_count": null,
      "outputs": [
        {
          "output_type": "stream",
          "name": "stdout",
          "text": [
            "Top 30 frequent words:\n",
            "এক: 7751\n",
            "একটা: 5108\n",
            "সাথে: 5105\n",
            "যায়: 4537\n",
            "বই: 4366\n",
            "লেখক: 4313\n",
            "হয়ে: 4001\n",
            "কথা: 3474\n",
            "বইটি: 3353\n",
            "হয়েছে: 3094\n",
            "একজন: 2634\n",
            "পড়ে: 2629\n",
            "উপন্যাস: 2614\n",
            "ভালো: 2573\n",
            "গল্প: 2554\n",
            "শেষ: 2419\n",
            "মানুষ: 2250\n",
            "নাম: 2232\n",
            "লেখা: 2218\n",
            "দিয়ে: 2170\n",
            "সময়: 1945\n",
            "বইয়ের: 1917\n",
            "মানুষের: 1858\n",
            "কাহিনী: 1740\n",
            "মত: 1616\n",
            "চরিত্র: 1611\n",
            "হিসেবে: 1576\n",
            "উপন্যাসের: 1575\n",
            "জীবন: 1551\n",
            "বড়: 1498\n"
          ]
        }
      ]
    },
    {
      "cell_type": "code",
      "source": [
        "print('Top 15 least frequent words:')\n",
        "\n",
        "for word, frequency in sorted_cnt.most_common()[:-16:-1]:\n",
        "    print(f'{word}: {frequency}')"
      ],
      "metadata": {
        "colab": {
          "base_uri": "https://localhost:8080/"
        },
        "id": "UaxT8f4Fy-S2",
        "outputId": "c1b16002-895c-43f0-a66d-4cad99ea8e50"
      },
      "execution_count": null,
      "outputs": [
        {
          "output_type": "stream",
          "name": "stdout",
          "text": [
            "Top 15 least frequent words:\n",
            "ভিপি: 1\n",
            "ডাকসুর: 1\n",
            "ঊপন্যাস: 1\n",
            "সাহিত্যকৃতী: 1\n",
            "পূরনো: 1\n",
            "আম্বিয়া: 1\n",
            "আম্বিয়াকে: 1\n",
            "সার্কাসের: 1\n",
            "পুথিপাঠ: 1\n",
            "সুনিখুত: 1\n",
            "ব্যাবস্থার: 1\n",
            "ভাঙ্গনের: 1\n",
            "প্রানচঞ্চল: 1\n",
            "মুল্যহীনতার: 1\n",
            "নিত্যনৈমন্ত: 1\n"
          ]
        }
      ]
    },
    {
      "cell_type": "code",
      "source": [
        "train_df['summary'][6]"
      ],
      "metadata": {
        "colab": {
          "base_uri": "https://localhost:8080/",
          "height": 107
        },
        "id": "23gSaCFd4p_2",
        "outputId": "04b8434d-e428-42c8-9b29-54968ef3829c"
      },
      "execution_count": null,
      "outputs": [
        {
          "output_type": "execute_result",
          "data": {
            "text/plain": [
              "'বইপোকা প্রতিযোগিতা বোতল ভূত হুমায়ূন আহমেদ প্রতীক সংস্থা ধ্রুব এষ ৬৪ ১০০৳ বোতল ভূত মূলত শিশু কিশোরদের জন্যে রচিত উপন্যাস মজার ভৌতিক গল্প বললেও ভুল বইটি পড়ে হয়েছে বড়দেরও আনন্দ সুতারাং বড় ছোট সকলে পড়তে বইটি উপন্যাসে হুমায়ুন আহমেদ উত্তম পুরুষে কাহিনীর বর্ণনা দিয়ে একদিন ক্লাসে এগারো বছর বয়সী লেখাপড়ায় বিমুখ হুমায়ুন আহমেদকে বন্ধু মুনির অবাক দিয়ে হুমায়ুন ভূত পুষবি ভূত পুষবে মানে ভূত কুকুর ছানা চাইলে সহজে পোষা যায় প্রশ্নগুলো হুমায়ুনের কৌতূহল বাড়াতে সাথে সাথে রাজি হয়ে রওনা দেয় ভুতের বাচ্চা আনতে সন্ধ্যাবেলা গাছপালায় ঢাকা জঙ্গুলে জায়গায় শেওলা ঢাকা দো তলা বাড়িতে উপস্থিত বাড়ির নাম শান্তিনিকেতন দরজায় কড়া নাড়তেই বেরিয়ে আসে সন্ন্যাসীর মতন চেহারার একলোক অবিকল রবীন্দ্রনাথ ঠাকুরের মতন পরনে আলখাল্লার মত লম্বা পোশাক লোকটির নাম সকলে রবিবাবু নামেই ডাকে অদ্ভুত অদ্ভুত লোকটিই ছোট্ট শিশিতে ভরে দিল ভুতের বাচ্চা ভুতের বাচ্চাকে হুমায়ুন ঘরে এলো নিশ্চয় ইচ্ছে থাক গল্পের মজা নষ্ট চাইনা আপনারাই পড়ে ফেলুন ব্যতিক্রমধর্মী মজার ভৌতিক উপন্যাসটি হুমায়ুন আহমেদের উপন্যাসগুলো বরাবরই সাহিত্যরস সমৃদ্ধ সুখপাঠ্য ছোটোদের জন্যে বোতল ভু্ত ব্যততায় ঘটেনি লেখায় মূলভাব প্রকাশে লেখক সহজ সাবলীল ছোটদের জন্যে একেবারে পাঠের উপযোগী বইটির ১০ ১০ দিলেও কম হয়ে যায় বাচ্চাকে গিফট সংগ্রহে রাখতে আজই কিনে ফেলুন'"
            ],
            "application/vnd.google.colaboratory.intrinsic+json": {
              "type": "string"
            }
          },
          "metadata": {},
          "execution_count": 195
        }
      ]
    },
    {
      "cell_type": "markdown",
      "source": [
        "# Data Visualization"
      ],
      "metadata": {
        "id": "2ZrsGLrvzham"
      }
    },
    {
      "cell_type": "code",
      "source": [
        "plt.figure(figsize= (16, 16))\n",
        "\n",
        "sns.displot(train_df['count'])\n",
        "\n",
        "plt.xlim(0, 1500)\n",
        "\n",
        "plt.xlabel('The num of words ', fontsize = 16)\n",
        "plt.title(\"The Number of Words Distribution\", fontsize = 18)\n",
        "plt.show()"
      ],
      "metadata": {
        "colab": {
          "base_uri": "https://localhost:8080/",
          "height": 558
        },
        "id": "Lon2umz5z55T",
        "outputId": "d4bf3cd7-2f1d-4024-9438-e93c9579b590"
      },
      "execution_count": null,
      "outputs": [
        {
          "output_type": "display_data",
          "data": {
            "text/plain": [
              "<Figure size 1600x1600 with 0 Axes>"
            ]
          },
          "metadata": {}
        },
        {
          "output_type": "display_data",
          "data": {
            "text/plain": [
              "<Figure size 500x500 with 1 Axes>"
            ],
            "image/png": "[encoded data removed]"
          },
          "metadata": {}
        }
      ]
    },
    {
      "cell_type": "code",
      "source": [
        "category_count = train_df['genre'].value_counts()\n",
        "\n",
        "categories = category_count.index\n",
        "\n",
        "fig = plt.figure(figsize= (12, 5))\n",
        "\n",
        "ax = fig.add_subplot(111)\n",
        "\n",
        "sns.barplot(x = category_count.index, y = category_count )\n",
        "\n",
        "for a, p in enumerate(ax.patches):\n",
        "    ax.annotate(f'{categories[a]}\\n' + format(p.get_height(), '.0f'), xy = (p.get_x() + p.get_width() / 2.0, p.get_height()), xytext = (0,-25), size = 13, color = 'black' , ha = 'center', va = 'center', textcoords = 'offset points' )\n",
        "\n",
        "plt.xlabel('Genre', size = 15)\n",
        "\n",
        "plt.ylabel('The Number of Summary', size= 15)\n",
        "\n",
        "plt.xticks(size = 12)\n",
        "\n",
        "plt.title(\"The number of Summary by Genre\" , size = 18)\n",
        "\n",
        "plt.show()"
      ],
      "metadata": {
        "colab": {
          "base_uri": "https://localhost:8080/",
          "height": 502
        },
        "id": "d9Ls5qWJzgvu",
        "outputId": "d1d5fd28-23ba-4ee5-ae4e-e2ad291cf56f"
      },
      "execution_count": null,
      "outputs": [
        {
          "output_type": "display_data",
          "data": {
            "text/plain": [
              "<Figure size 1200x500 with 1 Axes>"
            ],
            "image/png": "[encoded data removed]"
          },
          "metadata": {}
        }
      ]
    },
    {
      "cell_type": "code",
      "source": [],
      "metadata": {
        "id": "xreR7LQj3Lxa"
      },
      "execution_count": null,
      "outputs": []
    }
  ]
}